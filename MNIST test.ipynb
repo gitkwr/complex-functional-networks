{
 "cells": [
  {
   "cell_type": "code",
   "execution_count": 1,
   "metadata": {
    "collapsed": false,
    "deletable": true,
    "editable": true
   },
   "outputs": [
    {
     "name": "stderr",
     "output_type": "stream",
     "text": [
      "C:\\Users\\Rohit\\Anaconda3\\envs\\aind\\lib\\site-packages\\h5py\\__init__.py:36: FutureWarning: Conversion of the second argument of issubdtype from `float` to `np.floating` is deprecated. In future, it will be treated as `np.float64 == np.dtype(float).type`.\n",
      "  from ._conv import register_converters as _register_converters\n"
     ]
    },
    {
     "name": "stdout",
     "output_type": "stream",
     "text": [
      "Extracting MNIST_data/train-images-idx3-ubyte.gz\n",
      "Extracting MNIST_data/train-labels-idx1-ubyte.gz\n",
      "Extracting MNIST_data/t10k-images-idx3-ubyte.gz\n",
      "Extracting MNIST_data/t10k-labels-idx1-ubyte.gz\n"
     ]
    }
   ],
   "source": [
    "import numpy as np\n",
    "import tensorflow as tf\n",
    "from tensorflow.python.client import device_lib\n",
    "device_lib.list_local_devices()\n",
    "\n",
    "# Load training and eval data\n",
    "from tensorflow.examples.tutorials.mnist import input_data\n",
    "mnist = input_data.read_data_sets(\"MNIST_data/\", one_hot=True)"
   ]
  },
  {
   "cell_type": "code",
   "execution_count": 2,
   "metadata": {
    "collapsed": false,
    "deletable": true,
    "editable": true
   },
   "outputs": [],
   "source": [
    "# import matplotlib.pyplot as plt\n",
    "# %matplotlib inline\n",
    "# import matplotlib.cm as cm\n",
    "# fig = plt.figure(figsize=(20,20))\n",
    "# for i in range(6):\n",
    "#     ax = fig.add_subplot(1, 6, i+1, xticks=[], yticks=[])\n",
    "#     ax.imshow(train_data[i].reshape(28,-1), cmap='gray')\n",
    "#     ax.set_title(str(train_labels[i]))"
   ]
  },
  {
   "cell_type": "code",
   "execution_count": 3,
   "metadata": {
    "collapsed": false,
    "deletable": true,
    "editable": true
   },
   "outputs": [],
   "source": [
    "def unison_shuffled_copies(a, b):\n",
    "    assert len(a) == len(b)\n",
    "    p = np.random.permutation(len(a))\n",
    "    return a[p], b[p]\n",
    "\n",
    "def extend_tensor(tensor1):\n",
    "    tfmax = tf.reshape(tf.reduce_max(tensor1,axis=1),(-1,1))\n",
    "    tfmin = tf.reshape(tf.reduce_max(tensor1,axis=1),(-1,1))\n",
    "    return tf.concat([tensor1, tfmax,tfmin], axis = 1)\n",
    "\n",
    "def onehot(x,classes = None):\n",
    "    if classes is None:\n",
    "        classes = len(np.unique(x))\n",
    "    onehotencoded = np.zeros((x.shape[0],classes))\n",
    "    onehotencoded[np.arange(x.shape[0]), x] = 1\n",
    "    return onehotencoded\n",
    "# train_labels_onehot = onehot(train_labels)"
   ]
  },
  {
   "cell_type": "code",
   "execution_count": 4,
   "metadata": {
    "collapsed": true,
    "deletable": true,
    "editable": true
   },
   "outputs": [],
   "source": [
    "input_images = tf.placeholder(tf.float32, [None, 784], name='input_images')\n",
    "input_labels = tf.placeholder(tf.float32, [None, 10], name = 'input_labels')"
   ]
  },
  {
   "cell_type": "code",
   "execution_count": 5,
   "metadata": {
    "collapsed": true,
    "deletable": true,
    "editable": true
   },
   "outputs": [],
   "source": [
    "def basicnet(input_images):\n",
    "    W = tf.Variable(tf.zeros([784,10]))\n",
    "    b = tf.Variable(tf.zeros([10]))\n",
    "    y = tf.nn.softmax(tf.matmul(input_images,W)+b)\n",
    "    return y\n",
    "\n",
    "def create_mlp_net(input_images=input_images, reuse=False, istraining=True):\n",
    "    with tf.variable_scope('mlp', reuse = reuse):\n",
    "        l1 = tf.layers.dense(input_images, 512, activation=tf.nn.relu)\n",
    "        print('First dense layer shape:',l1.shape)\n",
    "#         ld1 = tf.layers.dropout(l1,rate=.2, training = istraining)\n",
    "        l2 = tf.layers.dense(l1, 512, activation=tf.nn.relu)\n",
    "        print('Second dense layer shape:',l2.shape)\n",
    "#         ld2 = tf.layers.dropout(l2,rate=.2, training = istraining)\n",
    "        y = tf.layers.dense(l2, 10, activation=tf.nn.softmax)\n",
    "        print('Output shape:',y.shape)\n",
    "    return y\n",
    "\n",
    "def manual_create_mlp_net(input_images=input_images, reuse=False, istraining=True):\n",
    "    with tf.variable_scope('mlp', reuse = reuse):\n",
    "        W1 = tf.get_variable('w1',shape=[784,512])\n",
    "        b1 = tf.Variable(tf.zeros([512]))\n",
    "        l1 = tf.nn.relu(tf.matmul(input_images,W1) + b1)\n",
    "        print('First dense layer shape:',l1.shape)\n",
    "        W2 = tf.get_variable('w2',shape=[512,256])\n",
    "        b2 = tf.Variable(tf.zeros([256]))\n",
    "        l2 = tf.nn.relu(tf.matmul(l1,W2) + b2)\n",
    "        print('Second dense layer shape:',l2.shape)\n",
    "        W3 = tf.get_variable('w3',shape=[256,10])\n",
    "        b3 = tf.Variable(tf.zeros([10]))\n",
    "        y = tf.nn.softmax(tf.matmul(l2,W3) + b3)\n",
    "        print('Output shape:',y.shape)\n",
    "    return y\n",
    "\n",
    "def create_complex_functional_net(input_images=input_images, reuse=False, istraining=True):\n",
    "    with tf.variable_scope('complex_mlp', reuse = reuse):\n",
    "        W1 = tf.get_variable('w1',shape=[786,510])\n",
    "        b1 = tf.Variable(tf.zeros([510]))\n",
    "        l1 = tf.nn.relu(tf.matmul(extend_tensor(input_images),W1) + b1)\n",
    "        print(l1.shape)\n",
    "        W2 = tf.get_variable('w2',shape=[512,255])\n",
    "        b2 = tf.Variable(tf.zeros([255]))\n",
    "        l2 = tf.nn.relu(tf.matmul(extend_tensor(l1),W2) + b2)\n",
    "        print(l2.shape)\n",
    "        W3 = tf.get_variable('w3',shape=[257,10])\n",
    "        b3 = tf.Variable(tf.zeros([10]))\n",
    "        y = tf.nn.softmax(tf.matmul(extend_tensor(l2),W3) + b3)\n",
    "        print(y.shape)\n",
    "    return y"
   ]
  },
  {
   "cell_type": "code",
   "execution_count": 6,
   "metadata": {
    "collapsed": false,
    "deletable": true,
    "editable": true
   },
   "outputs": [
    {
     "name": "stdout",
     "output_type": "stream",
     "text": [
      "First dense layer shape: (?, 512)\n",
      "Second dense layer shape: (?, 256)\n",
      "Output shape: (?, 10)\n",
      "(?, 510)\n",
      "(?, 255)\n",
      "(?, 10)\n"
     ]
    }
   ],
   "source": [
    "#y_train = create_mlp_net(input_images,reuse=False,istraining=False)\n",
    "y_regular = manual_create_mlp_net(input_images,reuse=tf.AUTO_REUSE,istraining=False)\n",
    "#y_train = basicnet(input_images)\n",
    "y_complex = create_complex_functional_net(input_images,reuse=tf.AUTO_REUSE,istraining=False)\n",
    "#y_predict = create_mlp_net(reuse=True,istraining=False)"
   ]
  },
  {
   "cell_type": "code",
   "execution_count": 7,
   "metadata": {
    "collapsed": false,
    "deletable": true,
    "editable": true
   },
   "outputs": [],
   "source": [
    "#cross_entropy = tf.reduce_mean(-tf.reduce_sum(input_labels * tf.log(y_train), axis=[1]))\n",
    "cross_entropy_regular = tf.reduce_mean(tf.nn.softmax_cross_entropy_with_logits_v2(labels = input_labels,logits = y_regular)) #Same as above but numerically stable\n",
    "cross_entropy_complex = tf.reduce_mean(tf.nn.softmax_cross_entropy_with_logits_v2(labels = input_labels,logits = y_complex)) #Same as above but numerically stable\n",
    "#train_step = tf.train.GradientDescentOptimizer(0.3).minimize(cross_entropy)\n",
    "train_step_regular = tf.train.RMSPropOptimizer(0.001).minimize(cross_entropy_regular) #Better optimizer than above\n",
    "train_step_complex = tf.train.RMSPropOptimizer(0.001).minimize(cross_entropy_complex) #Better optimizer than above"
   ]
  },
  {
   "cell_type": "code",
   "execution_count": 10,
   "metadata": {
    "collapsed": false,
    "deletable": true,
    "editable": true
   },
   "outputs": [
    {
     "name": "stdout",
     "output_type": "stream",
     "text": [
      "Regular: 0.9829\n",
      "Complex: 0.9833\n"
     ]
    }
   ],
   "source": [
    "with tf.Session() as sess:\n",
    "    tf.global_variables_initializer().run()\n",
    "    for _ in range(10000):\n",
    "        batch_xs, batch_ys = mnist.train.next_batch(1000)\n",
    "        sess.run(train_step_regular, feed_dict={input_images: batch_xs, input_labels: batch_ys})\n",
    "        sess.run(train_step_complex, feed_dict={input_images: batch_xs, input_labels: batch_ys})\n",
    "    correct_prediction_regular = tf.equal(tf.argmax(y_regular,1), tf.argmax(input_labels,1))\n",
    "    correct_prediction_complex = tf.equal(tf.argmax(y_complex,1), tf.argmax(input_labels,1))\n",
    "    accuracy_regular = tf.reduce_mean(tf.cast(correct_prediction_regular, tf.float32))\n",
    "    accuracy_complex = tf.reduce_mean(tf.cast(correct_prediction_complex, tf.float32))\n",
    "    print('Regular:', sess.run(accuracy_regular, feed_dict={input_images: mnist.test.images, input_labels: mnist.test.labels}))\n",
    "    print('Complex:', sess.run(accuracy_complex, feed_dict={input_images: mnist.test.images, input_labels: mnist.test.labels}))"
   ]
  },
  {
   "cell_type": "code",
   "execution_count": 5,
   "metadata": {
    "collapsed": true,
    "deletable": true,
    "editable": true
   },
   "outputs": [],
   "source": [
    "def create_complex_functional_net(input_images=input_images, reuse=False, istraining=True):\n",
    "    with tf.variable_scope('mlp', reuse = reuse):\n",
    "        W1 = tf.get_variable('w1',shape=[786,510])\n",
    "        b1 = tf.get_variable('b1',shape=[510])\n",
    "        l1 = tf.nn.relu(tf.matmul(extend_tensor(input_images),W1) + b1)\n",
    "        print(l1.shape)\n",
    "        W2 = tf.get_variable('w2',shape=[512,510])\n",
    "        b2 = tf.get_variable('b2',shape=[510])\n",
    "        l2 = tf.nn.relu(tf.matmul(extend_tensor(l1),W2) + b2)\n",
    "        print(l2.shape)\n",
    "        W3 = tf.get_variable('w3',shape=[512,10])\n",
    "        b3 = tf.get_variable('b3',shape=[10])\n",
    "        y = tf.nn.softmax(tf.matmul(extend_tensor(l2),W3) + b3)\n",
    "        print(y.shape)\n",
    "    return y"
   ]
  },
  {
   "cell_type": "code",
   "execution_count": 52,
   "metadata": {
    "collapsed": false,
    "deletable": true,
    "editable": true
   },
   "outputs": [
    {
     "name": "stdout",
     "output_type": "stream",
     "text": [
      "(3, 784) (3, 786)\n"
     ]
    }
   ],
   "source": [
    "sess = tf.InteractiveSession()\n",
    "tf0 = tf.constant(train_data[0:3])\n",
    "tfn = extend_tensor(tf0)\n",
    "print(tf0.shape,tfn.shape)\n",
    "sess.close()"
   ]
  },
  {
   "cell_type": "code",
   "execution_count": 27,
   "metadata": {
    "collapsed": false
   },
   "outputs": [
    {
     "name": "stdout",
     "output_type": "stream",
     "text": [
      "(2, 2) (2, 1)\n",
      "(2, 3) [[1 4 3]\n",
      " [4 5 6]]\n"
     ]
    }
   ],
   "source": [
    "sess = tf.InteractiveSession()\n",
    "x = tf.constant([[1, 4],[4,5]])\n",
    "y = tf.constant([[3], [6]])\n",
    "print(x.shape, y.shape)\n",
    "b = tf.concat([x, y], axis=1)  # [[1, 2, 3], [4, 5, 6]]\n",
    "print(b.shape, b.eval())\n",
    "sess.close()"
   ]
  },
  {
   "cell_type": "code",
   "execution_count": 5,
   "metadata": {
    "collapsed": true,
    "deletable": true,
    "editable": true
   },
   "outputs": [],
   "source": [
    "def manual_create_mlp_net(input_images=input_images, reuse=False, istraining=False):\n",
    "    with tf.variable_scope('mlp', reuse = reuse):\n",
    "        W1 = tf.get_variable('w1',shape=[784,512])\n",
    "        b1 = tf.get_variable('b1',shape=[512])\n",
    "        l1 = tf.nn.relu(tf.matmul(input_images,W1) + b1)\n",
    "        W2 = tf.get_variable('w2',shape=[512,512])\n",
    "        b2 = tf.get_variable('b2',shape=[512])\n",
    "        l2 = tf.nn.relu(tf.matmul(l1,W2) + b2)\n",
    "        W3 = tf.get_variable('w3',shape=[512,10])\n",
    "        b3 = tf.get_variable('b3',shape=[10])\n",
    "        y = tf.nn.softmax(tf.matmul(l2,W3) + b3)\n",
    "    return y"
   ]
  },
  {
   "cell_type": "code",
   "execution_count": null,
   "metadata": {
    "collapsed": true
   },
   "outputs": [],
   "source": []
  }
 ],
 "metadata": {
  "kernelspec": {
   "display_name": "Python [conda env:aind]",
   "language": "python",
   "name": "conda-env-aind-py"
  },
  "language_info": {
   "codemirror_mode": {
    "name": "ipython",
    "version": 3
   },
   "file_extension": ".py",
   "mimetype": "text/x-python",
   "name": "python",
   "nbconvert_exporter": "python",
   "pygments_lexer": "ipython3",
   "version": "3.6.0"
  }
 },
 "nbformat": 4,
 "nbformat_minor": 2
}
